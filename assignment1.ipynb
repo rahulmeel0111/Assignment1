{
 "cells": [
  {
   "cell_type": "code",
   "execution_count": 1,
   "id": "1a02310e-7532-43b6-9517-57235f921a72",
   "metadata": {},
   "outputs": [],
   "source": [
    "#1.  Explain the key features of Python that make it a popular choice for programming."
   ]
  },
  {
   "cell_type": "raw",
   "id": "9ee90c11-6d72-48be-8439-ff00fb0d61fc",
   "metadata": {},
   "source": [
    "There are many key features which make python as popular programming like.\n",
    "*Easy to understand\n",
    "*Readability\n",
    "*There are many librarys in Python >> More than 137000.\n",
    "#Syntax of Python is easy"
   ]
  },
  {
   "cell_type": "code",
   "execution_count": 2,
   "id": "353b809f-6216-4786-8ce9-e923b98816ff",
   "metadata": {},
   "outputs": [],
   "source": [
    "#2. Describe the role of predefined keywords in Python and provide examples of how they are used in a programming.\n"
   ]
  },
  {
   "cell_type": "raw",
   "id": "ff11c4cd-61b8-44b7-a6a4-225cd5dfb1f0",
   "metadata": {},
   "source": [
    "Predefined keyword are keywords whose mean are already defined in programming. They perform a specific operation and\n",
    "predefined keyword perform a special role in python.It reduce the complexcity of code and it define the syntax of code."
   ]
  },
  {
   "cell_type": "code",
   "execution_count": 4,
   "id": "0c2d5cc2-9202-41a1-8eb7-b2d773544e24",
   "metadata": {},
   "outputs": [
    {
     "name": "stdout",
     "output_type": "stream",
     "text": [
      "Hello World\n"
     ]
    }
   ],
   "source": [
    "#Here are some examples of keywords\n",
    "print(\"Hello World\")"
   ]
  },
  {
   "cell_type": "code",
   "execution_count": 5,
   "id": "7e565bd3-e141-45d9-98b7-452896534c3f",
   "metadata": {},
   "outputs": [
    {
     "name": "stdout",
     "output_type": "stream",
     "text": [
      "yes,value of i is smaller than n\n"
     ]
    }
   ],
   "source": [
    "i=10\n",
    "n=25\n",
    "if i < n:\n",
    "    print(\"yes,value of i is smaller than n\")"
   ]
  },
  {
   "cell_type": "code",
   "execution_count": 6,
   "id": "d7ff7bdc-bf7a-4966-8811-8b3a3b850e4b",
   "metadata": {},
   "outputs": [
    {
     "name": "stdout",
     "output_type": "stream",
     "text": [
      "10\n",
      "11\n",
      "12\n",
      "13\n",
      "14\n"
     ]
    }
   ],
   "source": [
    "i=10\n",
    "n=15\n",
    "while i < n:\n",
    "    print(i)\n",
    "    i=i+1\n",
    "    "
   ]
  },
  {
   "cell_type": "code",
   "execution_count": 7,
   "id": "9b08c4af-d046-493d-9216-62fc2737dd68",
   "metadata": {},
   "outputs": [
    {
     "name": "stdout",
     "output_type": "stream",
     "text": [
      "R\n",
      "a\n",
      "h\n",
      "u\n",
      "l\n"
     ]
    }
   ],
   "source": [
    "for i in \"Rahul\":\n",
    "    print(i)\n"
   ]
  },
  {
   "cell_type": "code",
   "execution_count": 8,
   "id": "a407ee8c-4d92-40e9-aa26-7306d0c7eef3",
   "metadata": {},
   "outputs": [],
   "source": [
    "# 3.  Conpare and contrast mutable and immutable objects in Python with exaxples."
   ]
  },
  {
   "cell_type": "code",
   "execution_count": 9,
   "id": "c38d1daf-be68-4ef4-b23f-1dcef20ab626",
   "metadata": {},
   "outputs": [],
   "source": [
    "#Mutable =WE change the data(list,string,char,float.) after create called Mutable for ex\n",
    "list_num=[1 , 20 , \"Rahul\" , 3+5j , 5.5]"
   ]
  },
  {
   "cell_type": "code",
   "execution_count": 10,
   "id": "51a678b6-f7cf-4530-8fe2-4392e0695f6e",
   "metadata": {},
   "outputs": [
    {
     "data": {
      "text/plain": [
       "20"
      ]
     },
     "execution_count": 10,
     "metadata": {},
     "output_type": "execute_result"
    }
   ],
   "source": [
    "list_num[1]"
   ]
  },
  {
   "cell_type": "code",
   "execution_count": 11,
   "id": "cf0ed0bd-93bc-4cd9-801a-8d2153d15d48",
   "metadata": {},
   "outputs": [
    {
     "data": {
      "text/plain": [
       "[1, 80, 'Rahul', (3+5j), 5.5]"
      ]
     },
     "execution_count": 11,
     "metadata": {},
     "output_type": "execute_result"
    }
   ],
   "source": [
    "list_num[1] = 80 # This is mutable\n",
    "list_num"
   ]
  },
  {
   "cell_type": "code",
   "execution_count": 12,
   "id": "bb2c0f3e-a300-4752-846d-f10a202a75a3",
   "metadata": {},
   "outputs": [
    {
     "data": {
      "text/plain": [
       "[1, 80, 'Rahul', 'Choudhary', 5.5]"
      ]
     },
     "execution_count": 12,
     "metadata": {},
     "output_type": "execute_result"
    }
   ],
   "source": [
    "list_num[3]=\"Choudhary\"\n",
    "list_num"
   ]
  },
  {
   "cell_type": "code",
   "execution_count": 13,
   "id": "971b2e2b-ca2a-4b82-a9cd-70a177746502",
   "metadata": {},
   "outputs": [],
   "source": [
    "#Immutable = Data which is not change after create called Immutable for example.\n",
    "name=\"Rahul\""
   ]
  },
  {
   "cell_type": "code",
   "execution_count": 14,
   "id": "237b570f-894f-4ce1-83ed-c6d33d2068f9",
   "metadata": {},
   "outputs": [
    {
     "data": {
      "text/plain": [
       "'R'"
      ]
     },
     "execution_count": 14,
     "metadata": {},
     "output_type": "execute_result"
    }
   ],
   "source": [
    "name[0]"
   ]
  },
  {
   "cell_type": "code",
   "execution_count": 15,
   "id": "84578796-7eda-4610-9d90-a4278d1c3613",
   "metadata": {},
   "outputs": [
    {
     "ename": "NameError",
     "evalue": "name 'l' is not defined",
     "output_type": "error",
     "traceback": [
      "\u001b[0;31m---------------------------------------------------------------------------\u001b[0m",
      "\u001b[0;31mNameError\u001b[0m                                 Traceback (most recent call last)",
      "Cell \u001b[0;32mIn[15], line 1\u001b[0m\n\u001b[0;32m----> 1\u001b[0m name[\u001b[38;5;241m0\u001b[39m]\u001b[38;5;241m=\u001b[39m\u001b[43ml\u001b[49m \u001b[38;5;66;03m# It give error \u001b[39;00m\n",
      "\u001b[0;31mNameError\u001b[0m: name 'l' is not defined"
     ]
    }
   ],
   "source": [
    "name[0]=l # It give error "
   ]
  },
  {
   "cell_type": "code",
   "execution_count": 16,
   "id": "fbf481b4-eecf-4903-8a1e-b15f8aed1e68",
   "metadata": {},
   "outputs": [],
   "source": [
    "#4.  Discuss the different types of operators in Python and provide exaxples of how they are used."
   ]
  },
  {
   "cell_type": "code",
   "execution_count": 17,
   "id": "5f0da6f5-0a0a-4489-b3bd-9bcbcf4e0545",
   "metadata": {},
   "outputs": [
    {
     "data": {
      "text/plain": [
       "30"
      ]
     },
     "execution_count": 17,
     "metadata": {},
     "output_type": "execute_result"
    }
   ],
   "source": [
    "#Arithmatic operator\n",
    "a=5\n",
    "b=25\n",
    "a+b"
   ]
  },
  {
   "cell_type": "code",
   "execution_count": 18,
   "id": "5e44e228-865a-4f7f-a29d-c7928df35f5e",
   "metadata": {},
   "outputs": [
    {
     "data": {
      "text/plain": [
       "False"
      ]
     },
     "execution_count": 18,
     "metadata": {},
     "output_type": "execute_result"
    }
   ],
   "source": [
    "#identity operator\n",
    "a=5\n",
    "b=3\n",
    "a is b"
   ]
  },
  {
   "cell_type": "code",
   "execution_count": 19,
   "id": "12b8de99-62c2-47a0-a6ae-31fc12298079",
   "metadata": {},
   "outputs": [
    {
     "data": {
      "text/plain": [
       "True"
      ]
     },
     "execution_count": 19,
     "metadata": {},
     "output_type": "execute_result"
    }
   ],
   "source": [
    "a is not b"
   ]
  },
  {
   "cell_type": "code",
   "execution_count": 20,
   "id": "1a89bf0c-0698-4619-bcbc-3f46ca84fe37",
   "metadata": {},
   "outputs": [
    {
     "data": {
      "text/plain": [
       "True"
      ]
     },
     "execution_count": 20,
     "metadata": {},
     "output_type": "execute_result"
    }
   ],
   "source": [
    "#memvership operator\n",
    "a=\"Rahul\"\n",
    "\"R\" in a "
   ]
  },
  {
   "cell_type": "code",
   "execution_count": 21,
   "id": "97883842-1af6-40a8-9a30-1b7b11ae3e0f",
   "metadata": {},
   "outputs": [
    {
     "data": {
      "text/plain": [
       "False"
      ]
     },
     "execution_count": 21,
     "metadata": {},
     "output_type": "execute_result"
    }
   ],
   "source": [
    "\"s\" in a"
   ]
  },
  {
   "cell_type": "code",
   "execution_count": 22,
   "id": "f000abcf-f006-42be-8e7a-792e980a42d4",
   "metadata": {},
   "outputs": [
    {
     "data": {
      "text/plain": [
       "False"
      ]
     },
     "execution_count": 22,
     "metadata": {},
     "output_type": "execute_result"
    }
   ],
   "source": [
    "\"R\" not in a"
   ]
  },
  {
   "cell_type": "code",
   "execution_count": 23,
   "id": "10f02119-5c36-461b-9d61-2f7dfeb3bcc6",
   "metadata": {},
   "outputs": [
    {
     "data": {
      "text/plain": [
       "30"
      ]
     },
     "execution_count": 23,
     "metadata": {},
     "output_type": "execute_result"
    }
   ],
   "source": [
    "# Assignment operator\n",
    "a=10\n",
    "a+=20\n",
    "a"
   ]
  },
  {
   "cell_type": "code",
   "execution_count": 24,
   "id": "f663418f-37b1-4638-8508-51b56700a0f5",
   "metadata": {},
   "outputs": [
    {
     "data": {
      "text/plain": [
       "0"
      ]
     },
     "execution_count": 24,
     "metadata": {},
     "output_type": "execute_result"
    }
   ],
   "source": [
    "#Bitwise operator\n",
    "10 & 20"
   ]
  },
  {
   "cell_type": "code",
   "execution_count": 25,
   "id": "23684fd9-4e93-4889-b021-05409aef69db",
   "metadata": {},
   "outputs": [
    {
     "data": {
      "text/plain": [
       "'0b1010'"
      ]
     },
     "execution_count": 25,
     "metadata": {},
     "output_type": "execute_result"
    }
   ],
   "source": [
    "bin(10)"
   ]
  },
  {
   "cell_type": "code",
   "execution_count": 26,
   "id": "311785cf-c015-444a-a289-cef9242a3e15",
   "metadata": {},
   "outputs": [
    {
     "data": {
      "text/plain": [
       "'0b10100'"
      ]
     },
     "execution_count": 26,
     "metadata": {},
     "output_type": "execute_result"
    }
   ],
   "source": [
    "bin(20)"
   ]
  },
  {
   "cell_type": "code",
   "execution_count": 27,
   "id": "1b46a920-3fdc-4694-bd9d-c0dde43e6d92",
   "metadata": {},
   "outputs": [
    {
     "data": {
      "text/plain": [
       "29"
      ]
     },
     "execution_count": 27,
     "metadata": {},
     "output_type": "execute_result"
    }
   ],
   "source": [
    "25 | 4"
   ]
  },
  {
   "cell_type": "code",
   "execution_count": 28,
   "id": "7c83b4fe-0a02-4692-9d67-b30ee0c7b611",
   "metadata": {},
   "outputs": [
    {
     "data": {
      "text/plain": [
       "'0b11001'"
      ]
     },
     "execution_count": 28,
     "metadata": {},
     "output_type": "execute_result"
    }
   ],
   "source": [
    "bin(25)"
   ]
  },
  {
   "cell_type": "code",
   "execution_count": 29,
   "id": "2ec1a5fb-632f-4d2c-9098-2e6973dbbd1a",
   "metadata": {},
   "outputs": [
    {
     "data": {
      "text/plain": [
       "'0b100'"
      ]
     },
     "execution_count": 29,
     "metadata": {},
     "output_type": "execute_result"
    }
   ],
   "source": [
    "bin(4)"
   ]
  },
  {
   "cell_type": "code",
   "execution_count": 30,
   "id": "96134479-7efb-491b-87eb-4e279aa695aa",
   "metadata": {},
   "outputs": [
    {
     "data": {
      "text/plain": [
       "True"
      ]
     },
     "execution_count": 30,
     "metadata": {},
     "output_type": "execute_result"
    }
   ],
   "source": [
    "#Logical operator\n",
    "True and True"
   ]
  },
  {
   "cell_type": "code",
   "execution_count": 31,
   "id": "38f8fc87-6ecd-4d74-a59e-c160e4e54d3b",
   "metadata": {},
   "outputs": [
    {
     "data": {
      "text/plain": [
       "False"
      ]
     },
     "execution_count": 31,
     "metadata": {},
     "output_type": "execute_result"
    }
   ],
   "source": [
    "True and False"
   ]
  },
  {
   "cell_type": "code",
   "execution_count": 32,
   "id": "dec31861-63f5-4e35-8d91-c5ebd1aafb85",
   "metadata": {},
   "outputs": [
    {
     "data": {
      "text/plain": [
       "True"
      ]
     },
     "execution_count": 32,
     "metadata": {},
     "output_type": "execute_result"
    }
   ],
   "source": [
    "True or True"
   ]
  },
  {
   "cell_type": "code",
   "execution_count": 33,
   "id": "4591ea03-f09f-444e-91dc-ef2c2a03bad3",
   "metadata": {},
   "outputs": [
    {
     "data": {
      "text/plain": [
       "True"
      ]
     },
     "execution_count": 33,
     "metadata": {},
     "output_type": "execute_result"
    }
   ],
   "source": [
    "True or False"
   ]
  },
  {
   "cell_type": "code",
   "execution_count": 34,
   "id": "f628a529-c646-417d-b446-d993245b4c77",
   "metadata": {},
   "outputs": [
    {
     "data": {
      "text/plain": [
       "True"
      ]
     },
     "execution_count": 34,
     "metadata": {},
     "output_type": "execute_result"
    }
   ],
   "source": [
    "#Comparison operator\n",
    "a=5\n",
    "b=5\n",
    "a==b"
   ]
  },
  {
   "cell_type": "code",
   "execution_count": 35,
   "id": "6f7c0718-79a2-4334-a4f8-356f0998c6ee",
   "metadata": {},
   "outputs": [
    {
     "data": {
      "text/plain": [
       "False"
      ]
     },
     "execution_count": 35,
     "metadata": {},
     "output_type": "execute_result"
    }
   ],
   "source": [
    "a=5\n",
    "b=8\n",
    "a>8"
   ]
  },
  {
   "cell_type": "code",
   "execution_count": 36,
   "id": "cd94c039-9d5d-448b-8854-58209a476225",
   "metadata": {},
   "outputs": [
    {
     "data": {
      "text/plain": [
       "True"
      ]
     },
     "execution_count": 36,
     "metadata": {},
     "output_type": "execute_result"
    }
   ],
   "source": [
    "a<8"
   ]
  },
  {
   "cell_type": "code",
   "execution_count": 37,
   "id": "a59d402d-8687-49a3-9db2-e623f89a21a5",
   "metadata": {},
   "outputs": [
    {
     "data": {
      "text/plain": [
       "True"
      ]
     },
     "execution_count": 37,
     "metadata": {},
     "output_type": "execute_result"
    }
   ],
   "source": [
    "a=20\n",
    "b=22\n",
    "a<=b"
   ]
  },
  {
   "cell_type": "code",
   "execution_count": 38,
   "id": "daad17d9-0aa2-4b71-963d-b3eb1144a93a",
   "metadata": {},
   "outputs": [
    {
     "data": {
      "text/plain": [
       "int"
      ]
     },
     "execution_count": 38,
     "metadata": {},
     "output_type": "execute_result"
    }
   ],
   "source": [
    "#5.  Explain the concept of type casting in Python with exaxples.\n",
    "#Two type of type casting \n",
    "#Implicit>> it mean by default python know that which type of data is this.like int,string,float.\n",
    "#Explicit>> when we convert the data like int to float , int to string called Explicit\n",
    "a=10\n",
    "type(a) #This is Implicit"
   ]
  },
  {
   "cell_type": "code",
   "execution_count": 39,
   "id": "a42bd57b-46e8-490d-b8b5-784c5c0a75f7",
   "metadata": {},
   "outputs": [
    {
     "data": {
      "text/plain": [
       "float"
      ]
     },
     "execution_count": 39,
     "metadata": {},
     "output_type": "execute_result"
    }
   ],
   "source": [
    "#now we want to change int to float then..\n",
    "type(float(a)) # This is Explicit"
   ]
  },
  {
   "cell_type": "code",
   "execution_count": 40,
   "id": "a15c4c20-43b4-40dc-b9aa-a697edb9cf79",
   "metadata": {},
   "outputs": [
    {
     "name": "stdout",
     "output_type": "stream",
     "text": [
      "20\n"
     ]
    }
   ],
   "source": [
    "a=20\n",
    "print(a)"
   ]
  },
  {
   "cell_type": "code",
   "execution_count": 41,
   "id": "87e3cdbe-a4e4-4c6b-86bb-cd81050009a9",
   "metadata": {},
   "outputs": [
    {
     "data": {
      "text/plain": [
       "str"
      ]
     },
     "execution_count": 41,
     "metadata": {},
     "output_type": "execute_result"
    }
   ],
   "source": [
    "type(str(a))"
   ]
  },
  {
   "cell_type": "code",
   "execution_count": 42,
   "id": "ccd3bf0b-9912-42fc-94c8-eb37fbf7885f",
   "metadata": {},
   "outputs": [
    {
     "name": "stdout",
     "output_type": "stream",
     "text": [
      "20.0\n"
     ]
    }
   ],
   "source": [
    "print(float(a))"
   ]
  },
  {
   "cell_type": "code",
   "execution_count": 43,
   "id": "6b535291-494d-44fd-876f-d043f5c50ee8",
   "metadata": {},
   "outputs": [
    {
     "ename": "TypeError",
     "evalue": "unsupported operand type(s) for +: 'int' and 'str'",
     "output_type": "error",
     "traceback": [
      "\u001b[0;31m---------------------------------------------------------------------------\u001b[0m",
      "\u001b[0;31mTypeError\u001b[0m                                 Traceback (most recent call last)",
      "Cell \u001b[0;32mIn[43], line 3\u001b[0m\n\u001b[1;32m      1\u001b[0m a\u001b[38;5;241m=\u001b[39m\u001b[38;5;241m20\u001b[39m\n\u001b[1;32m      2\u001b[0m b\u001b[38;5;241m=\u001b[39m\u001b[38;5;124m\"\u001b[39m\u001b[38;5;124mRam\u001b[39m\u001b[38;5;124m\"\u001b[39m\n\u001b[0;32m----> 3\u001b[0m \u001b[43ma\u001b[49m\u001b[38;5;241;43m+\u001b[39;49m\u001b[43mb\u001b[49m  \u001b[38;5;66;03m# it give error because we can not add string and int value \u001b[39;00m\n",
      "\u001b[0;31mTypeError\u001b[0m: unsupported operand type(s) for +: 'int' and 'str'"
     ]
    }
   ],
   "source": [
    "a=20\n",
    "b=\"Ram\"\n",
    "a+b  # it give error because we can not add string and int value "
   ]
  },
  {
   "cell_type": "code",
   "execution_count": 44,
   "id": "82586f0b-15f8-463f-96ab-5d8507480d5f",
   "metadata": {},
   "outputs": [
    {
     "data": {
      "text/plain": [
       "'20Ram'"
      ]
     },
     "execution_count": 44,
     "metadata": {},
     "output_type": "execute_result"
    }
   ],
   "source": [
    "str(a)+b # but with help of type casting we convert int into string and now we can add easily "
   ]
  },
  {
   "cell_type": "code",
   "execution_count": 45,
   "id": "dbe590ee-49d3-4aaf-8e43-568d31f3e0bc",
   "metadata": {},
   "outputs": [],
   "source": [
    "#6.  How do conditional statements work in Python? Illustrate with examples. "
   ]
  },
  {
   "cell_type": "code",
   "execution_count": 46,
   "id": "b83a7aa3-1dbe-4d99-9e9e-f90c1755b49a",
   "metadata": {},
   "outputs": [
    {
     "name": "stdout",
     "output_type": "stream",
     "text": [
      "Good Marks\n"
     ]
    }
   ],
   "source": [
    "#wehen we apply condition it mean  if condition is true than it executed if condition will be false than code exit.for ex\n",
    "i=81\n",
    "if i>=70: # Here condition is true so enter in this.\n",
    "    print(\"Good Marks\")\n",
    "else:\n",
    "    print(\"Be focus\")"
   ]
  },
  {
   "cell_type": "code",
   "execution_count": 47,
   "id": "6619b99f-deec-436b-8d4f-53ad5ccebcc2",
   "metadata": {},
   "outputs": [
    {
     "name": "stdout",
     "output_type": "stream",
     "text": [
      "Be focus\n"
     ]
    }
   ],
   "source": [
    "i=65\n",
    "if i>=70: # Here condition is false so exit the condition .\n",
    "    print(\"Good Marks\")\n",
    "else:\n",
    "    print(\"Be focus\")"
   ]
  },
  {
   "cell_type": "code",
   "execution_count": 48,
   "id": "32acc276-4ecd-45c4-9cb3-1e294ac899e5",
   "metadata": {},
   "outputs": [
    {
     "name": "stdout",
     "output_type": "stream",
     "text": [
      "Grad a\n"
     ]
    }
   ],
   "source": [
    "i=85\n",
    "if 60<=i<70:\n",
    "    print(\"Grad c\")\n",
    "elif(70<=i<80):\n",
    "    print(\"Grad b\")\n",
    "elif(80<=i<90):\n",
    "    print(\"Grad a\")\n",
    "else:\n",
    "    print(\"Grad D \")"
   ]
  },
  {
   "cell_type": "code",
   "execution_count": 49,
   "id": "660cd1c0-2c1b-4357-9e02-88045c137ceb",
   "metadata": {},
   "outputs": [
    {
     "name": "stdout",
     "output_type": "stream",
     "text": [
      "Grad b\n"
     ]
    }
   ],
   "source": [
    "i=75\n",
    "if 60<=i<70:\n",
    "    print(\"Grad c\")\n",
    "elif(70<=i<80):\n",
    "    print(\"Grad b\")\n",
    "elif(80<=i<90):\n",
    "    print(\"Grad a\")\n",
    "else:\n",
    "    print(\"Grad D \")"
   ]
  },
  {
   "cell_type": "code",
   "execution_count": 50,
   "id": "91b6a1c7-a97c-4570-88be-937a59c534d7",
   "metadata": {},
   "outputs": [],
   "source": [
    "#7. Describe the different types of loops in Python and their use cases with exaxples.\n"
   ]
  },
  {
   "cell_type": "code",
   "execution_count": 51,
   "id": "edac0255-4038-431a-812c-4efb470ae9cc",
   "metadata": {},
   "outputs": [],
   "source": [
    "#Two types of loop \n",
    "#While loop\n",
    "#For loop"
   ]
  },
  {
   "cell_type": "code",
   "execution_count": 52,
   "id": "c5ccbb84-f61f-47e1-a082-736fa122c515",
   "metadata": {},
   "outputs": [
    {
     "name": "stdout",
     "output_type": "stream",
     "text": [
      "1\n",
      "2\n",
      "3\n",
      "4\n",
      "5\n"
     ]
    }
   ],
   "source": [
    "#While loop \n",
    "i=1\n",
    "while i <=5:\n",
    "    print(i)\n",
    "    i=i+1"
   ]
  },
  {
   "cell_type": "code",
   "execution_count": 53,
   "id": "ff4c13a7-b1b8-4293-9829-8a3a0606fac9",
   "metadata": {},
   "outputs": [
    {
     "name": "stdout",
     "output_type": "stream",
     "text": [
      "5\n",
      "4\n",
      "3\n",
      "2\n",
      "1\n",
      "0\n",
      "-1\n",
      "-2\n",
      "-3\n",
      "-4\n",
      "-5\n",
      "-6\n",
      "-7\n",
      "-8\n",
      "-9\n",
      "-10\n",
      "success\n"
     ]
    }
   ],
   "source": [
    "i=5\n",
    "while i >=-10:\n",
    "    print(i)\n",
    "    i=i-1\n",
    "else:\n",
    "    print(\"success\")"
   ]
  },
  {
   "cell_type": "code",
   "execution_count": 54,
   "id": "cbbe52e0-2bbd-46d4-82c4-2e295641adae",
   "metadata": {},
   "outputs": [
    {
     "name": "stdout",
     "output_type": "stream",
     "text": [
      "0\n",
      "1\n",
      "2\n",
      "3\n",
      "4\n",
      "5\n",
      "6\n",
      "7\n",
      "8\n",
      "9\n",
      "10\n",
      "11\n",
      "12\n",
      "13\n",
      "14\n",
      "15\n",
      "16\n",
      "17\n",
      "18\n",
      "19\n"
     ]
    }
   ],
   "source": [
    "#For loop\n",
    "for i in range( 0,20):\n",
    "    print(i)"
   ]
  },
  {
   "cell_type": "code",
   "execution_count": 55,
   "id": "71011f72-189c-4830-ad60-7a2d1c765204",
   "metadata": {},
   "outputs": [
    {
     "name": "stdout",
     "output_type": "stream",
     "text": [
      "R\n",
      "a\n",
      "h\n",
      "u\n",
      "l\n"
     ]
    }
   ],
   "source": [
    "for i in list(\"Rahul\"):\n",
    "    print(i)\n"
   ]
  },
  {
   "cell_type": "code",
   "execution_count": null,
   "id": "2fa3a418-dfc0-4fa6-a2bb-0b45238d2316",
   "metadata": {},
   "outputs": [],
   "source": []
  }
 ],
 "metadata": {
  "kernelspec": {
   "display_name": "Python 3 (ipykernel)",
   "language": "python",
   "name": "python3"
  },
  "language_info": {
   "codemirror_mode": {
    "name": "ipython",
    "version": 3
   },
   "file_extension": ".py",
   "mimetype": "text/x-python",
   "name": "python",
   "nbconvert_exporter": "python",
   "pygments_lexer": "ipython3",
   "version": "3.10.8"
  }
 },
 "nbformat": 4,
 "nbformat_minor": 5
}
